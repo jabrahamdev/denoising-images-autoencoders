{
 "cells": [
  {
   "cell_type": "markdown",
   "id": "8d79b25b-bc83-4336-8f6b-567735c201e7",
   "metadata": {},
   "source": [
    "# AutoEncoders for Denoising Images from the MINST Dataset\n",
    "\n",
    "### AutoEnconders Practice with Tensorflow | Keras\n",
    "\n",
    "_\n",
    "\n",
    "**Práctica de Eliminación del ruido en imágenes del Dataset MNIST**"
   ]
  },
  {
   "cell_type": "code",
   "execution_count": 40,
   "id": "b6e27cfe-4f0f-4732-9b10-d79a6e8574e2",
   "metadata": {},
   "outputs": [],
   "source": [
    "import numpy as np\n",
    "import pandas as pd\n",
    "import matplotlib.pyplot as plt\n",
    "import seaborn as sns"
   ]
  },
  {
   "cell_type": "code",
   "execution_count": 41,
   "id": "cae4fed1-aa14-4e0c-a423-49d266a6771b",
   "metadata": {},
   "outputs": [],
   "source": [
    "from tensorflow.keras.datasets import mnist"
   ]
  },
  {
   "cell_type": "code",
   "execution_count": 42,
   "id": "ea30b031-8a3b-457e-aac9-64758fd7af24",
   "metadata": {},
   "outputs": [],
   "source": [
    "(X_train, y_train), (X_test, y_test) = mnist.load_data()"
   ]
  },
  {
   "cell_type": "code",
   "execution_count": 43,
   "id": "23e9fd5c-60e5-482b-9bb0-b11f69d56be8",
   "metadata": {},
   "outputs": [
    {
     "data": {
      "text/plain": [
       "<matplotlib.image.AxesImage at 0x1c1b9f2c940>"
      ]
     },
     "execution_count": 43,
     "metadata": {},
     "output_type": "execute_result"
    },
    {
     "data": {
      "image/png": "[encoded data removed]",
      "text/plain": [
       "<Figure size 432x288 with 1 Axes>"
      ]
     },
     "metadata": {
      "needs_background": "light"
     },
     "output_type": "display_data"
    }
   ],
   "source": [
    "plt.imshow(X_train[0])"
   ]
  },
  {
   "cell_type": "markdown",
   "id": "afbfcd04-b6c9-47e5-834f-89a563ed9ca5",
   "metadata": {},
   "source": [
    "_\n",
    "\n",
    "**some basic scaling**"
   ]
  },
  {
   "cell_type": "code",
   "execution_count": 44,
   "id": "cb0ee37f-e0ff-4e1b-85d2-fc4a940eddf2",
   "metadata": {},
   "outputs": [],
   "source": [
    "X_train = X_train/255\n",
    "X_test = X_test/255"
   ]
  },
  {
   "cell_type": "code",
   "execution_count": 45,
   "id": "6a473f32-fe71-4cb1-bc26-55b7b53cfc5b",
   "metadata": {},
   "outputs": [],
   "source": [
    "from tensorflow.keras.models import Sequential\n",
    "from tensorflow.keras.layers import Dense, Flatten, Reshape\n",
    "from tensorflow.keras.optimizers import SGD"
   ]
  },
  {
   "cell_type": "markdown",
   "id": "ef67bb2a-0f66-44f5-bd50-496206888a90",
   "metadata": {},
   "source": [
    "### Basic AutoEncoder"
   ]
  },
  {
   "cell_type": "code",
   "execution_count": 46,
   "id": "ee8dcf3f-4bb6-469d-b2eb-3042b4d046ed",
   "metadata": {},
   "outputs": [
    {
     "data": {
      "text/plain": [
       "(28, 28)"
      ]
     },
     "execution_count": 46,
     "metadata": {},
     "output_type": "execute_result"
    }
   ],
   "source": [
    "X_train[0].shape"
   ]
  },
  {
   "cell_type": "code",
   "execution_count": 86,
   "id": "086e45d8-1886-42eb-9aee-49ce01962f74",
   "metadata": {},
   "outputs": [],
   "source": [
    "encoder = Sequential()\n",
    "encoder.add(Flatten(input_shape=[28,28]))\n",
    "encoder.add(Dense(400, activation='relu'))\n",
    "encoder.add(Dense(200, activation='relu'))\n",
    "encoder.add(Dense(100, activation='relu'))\n",
    "encoder.add(Dense(50, activation='relu'))\n",
    "encoder.add(Dense(25, activation='relu'))"
   ]
  },
  {
   "cell_type": "code",
   "execution_count": 87,
   "id": "6798c47a-acaf-4e34-97ea-d1e504a873d6",
   "metadata": {},
   "outputs": [],
   "source": [
    "\n",
    "\n",
    "decoder = Sequential()\n",
    "decoder.add(Dense(50,input_shape=[25],activation='relu'))\n",
    "decoder.add(Dense(100,activation='relu'))\n",
    "decoder.add(Dense(200,activation='relu'))\n",
    "decoder.add(Dense(400,activation='relu'))\n",
    "decoder.add(Dense(28 * 28, activation=\"sigmoid\"))\n",
    "decoder.add(Reshape([28,28]))"
   ]
  },
  {
   "cell_type": "code",
   "execution_count": 88,
   "id": "625d3c6d-c45f-4f7a-b459-9ec60c7894af",
   "metadata": {},
   "outputs": [],
   "source": [
    "autoencoder = Sequential([encoder, decoder])"
   ]
  },
  {
   "cell_type": "code",
   "execution_count": 89,
   "id": "b73002cf-fef6-4729-aef0-2b264cc82144",
   "metadata": {},
   "outputs": [],
   "source": [
    "autoencoder.compile(loss='binary_crossentropy',\n",
    "                   optimizer=SGD(lr=1.5),\n",
    "                   metrics=['accuracy'])"
   ]
  },
  {
   "cell_type": "code",
   "execution_count": 90,
   "id": "68a293fc-0f66-4fd4-9c42-854ad875e1e1",
   "metadata": {},
   "outputs": [
    {
     "name": "stdout",
     "output_type": "stream",
     "text": [
      "Epoch 1/5\n",
      "1875/1875 [==============================] - 6s 3ms/step - loss: 0.2906 - accuracy: 0.0698 - val_loss: 0.2169 - val_accuracy: 0.1272\n",
      "Epoch 2/5\n",
      "1875/1875 [==============================] - 6s 3ms/step - loss: 0.2063 - accuracy: 0.1377 - val_loss: 0.1753 - val_accuracy: 0.1722\n",
      "Epoch 3/5\n",
      "1875/1875 [==============================] - 6s 3ms/step - loss: 0.1718 - accuracy: 0.1800 - val_loss: 0.1575 - val_accuracy: 0.1944\n",
      "Epoch 4/5\n",
      "1875/1875 [==============================] - 6s 3ms/step - loss: 0.1518 - accuracy: 0.2060 - val_loss: 0.1455 - val_accuracy: 0.2142\n",
      "Epoch 5/5\n",
      "1875/1875 [==============================] - 6s 3ms/step - loss: 0.1438 - accuracy: 0.2184 - val_loss: 0.1395 - val_accuracy: 0.2167\n"
     ]
    },
    {
     "data": {
      "text/plain": [
       "<tensorflow.python.keras.callbacks.History at 0x1c188788b70>"
      ]
     },
     "execution_count": 90,
     "metadata": {},
     "output_type": "execute_result"
    }
   ],
   "source": [
    "autoencoder.fit(X_train, X_train, epochs=5, validation_data=(X_test, X_test))"
   ]
  },
  {
   "cell_type": "markdown",
   "id": "63216df2-7038-4b21-98b9-02fe35317b86",
   "metadata": {},
   "source": [
    "#### We will grab a 10 images batch to 'predict' on them"
   ]
  },
  {
   "cell_type": "code",
   "execution_count": 55,
   "id": "38bbe245-69d4-40ae-a128-853e87e0b8e1",
   "metadata": {},
   "outputs": [],
   "source": [
    "passed_images = autoencoder.predict(X_test[:10])"
   ]
  },
  {
   "cell_type": "code",
   "execution_count": 56,
   "id": "cbf7ca07-4236-4b8b-95ba-36937c6329aa",
   "metadata": {},
   "outputs": [
    {
     "data": {
      "text/plain": [
       "<matplotlib.image.AxesImage at 0x1c1ba3d5080>"
      ]
     },
     "execution_count": 56,
     "metadata": {},
     "output_type": "execute_result"
    },
    {
     "data": {
      "image/png": "[encoded data removed]",
      "text/plain": [
       "<Figure size 432x288 with 1 Axes>"
      ]
     },
     "metadata": {
      "needs_background": "light"
     },
     "output_type": "display_data"
    }
   ],
   "source": [
    "plt.imshow(result_images[0])"
   ]
  },
  {
   "cell_type": "code",
   "execution_count": 67,
   "id": "382ad662-1912-4a56-91e5-c46f79c2b7f8",
   "metadata": {},
   "outputs": [
    {
     "name": "stdout",
     "output_type": "stream",
     "text": [
      "Original Image\n"
     ]
    },
    {
     "data": {
      "image/png": "[encoded data removed]",
      "text/plain": [
       "<Figure size 432x288 with 1 Axes>"
      ]
     },
     "metadata": {
      "needs_background": "light"
     },
     "output_type": "display_data"
    },
    {
     "name": "stdout",
     "output_type": "stream",
     "text": [
      "Image after Autoencoder\n"
     ]
    },
    {
     "data": {
      "image/png": "[encoded data removed]",
      "text/plain": [
       "<Figure size 432x288 with 1 Axes>"
      ]
     },
     "metadata": {
      "needs_background": "light"
     },
     "output_type": "display_data"
    }
   ],
   "source": [
    "n = 6\n",
    "\n",
    "print('Original Image')\n",
    "plt.imshow(X_test[n])\n",
    "plt.show()\n",
    "\n",
    "print('Image after Autoencoder')\n",
    "plt.imshow(result_images[n]);"
   ]
  },
  {
   "cell_type": "markdown",
   "id": "883fa644-6511-4929-a549-dd9fdc128c8c",
   "metadata": {},
   "source": [
    "### Noisey Images"
   ]
  },
  {
   "cell_type": "markdown",
   "id": "7797c222-e016-4155-946c-bd48fcda6c0f",
   "metadata": {},
   "source": [
    "**We will use the Gaussian Noise Layer to create noisey images**"
   ]
  },
  {
   "cell_type": "code",
   "execution_count": 68,
   "id": "aad3b444-9ddd-4fd1-9cfe-187a8f98b4ec",
   "metadata": {},
   "outputs": [],
   "source": [
    "from tensorflow.keras.layers import GaussianNoise"
   ]
  },
  {
   "cell_type": "code",
   "execution_count": 69,
   "id": "c0001a3a-683a-4575-be53-e85a65401859",
   "metadata": {},
   "outputs": [],
   "source": [
    "sample = GaussianNoise(0.2)"
   ]
  },
  {
   "cell_type": "code",
   "execution_count": 76,
   "id": "6ec581e0-30d4-407f-b572-9f0608bf4253",
   "metadata": {},
   "outputs": [],
   "source": [
    "noisey = sample(X_test[0:10],training=True)"
   ]
  },
  {
   "cell_type": "code",
   "execution_count": 85,
   "id": "32bf53dc-1f56-4eb1-bb54-f1b5afbf753a",
   "metadata": {},
   "outputs": [
    {
     "name": "stdout",
     "output_type": "stream",
     "text": [
      "Original Image\n"
     ]
    },
    {
     "data": {
      "image/png": "[encoded data removed]",
      "text/plain": [
       "<Figure size 432x288 with 1 Axes>"
      ]
     },
     "metadata": {
      "needs_background": "light"
     },
     "output_type": "display_data"
    },
    {
     "name": "stdout",
     "output_type": "stream",
     "text": [
      "Noisey Version\n"
     ]
    },
    {
     "data": {
      "image/png": "[encoded data removed]",
      "text/plain": [
       "<Figure size 432x288 with 1 Axes>"
      ]
     },
     "metadata": {
      "needs_background": "light"
     },
     "output_type": "display_data"
    }
   ],
   "source": [
    "n = 9\n",
    "\n",
    "print('Original Image')\n",
    "plt.imshow(X_test[n])\n",
    "plt.show()\n",
    "\n",
    "print('Noisey Version')\n",
    "plt.imshow(noisey[n])\n",
    "plt.show()"
   ]
  },
  {
   "cell_type": "markdown",
   "id": "0dd6553c-b29a-426c-baa0-02577ecf9d09",
   "metadata": {},
   "source": [
    "### Denoiser Model"
   ]
  },
  {
   "cell_type": "markdown",
   "id": "f110522a-535e-41aa-a51b-c4b9d0c45c17",
   "metadata": {},
   "source": [
    "**Now we create a similar model but adding a noise layer to alter the images before encoding**"
   ]
  },
  {
   "cell_type": "code",
   "execution_count": 92,
   "id": "07fc419e-8bed-499d-9526-ae1c36bda969",
   "metadata": {},
   "outputs": [],
   "source": [
    "import tensorflow as tf"
   ]
  },
  {
   "cell_type": "code",
   "execution_count": 94,
   "id": "d25a43bb-8a3b-4d3c-848c-9072525e7a28",
   "metadata": {},
   "outputs": [],
   "source": [
    "tf.random.set_seed(101)\n",
    "np.random.seed(101)\n",
    "\n",
    "encoder = Sequential()\n",
    "encoder.add(Flatten(input_shape=[28,28]))\n",
    "\n",
    "encoder.add(GaussianNoise(0.2)) # Noise Layer \n",
    "\n",
    "encoder.add(Dense(400, activation='relu'))\n",
    "encoder.add(Dense(200, activation='relu'))\n",
    "encoder.add(Dense(100, activation='relu'))\n",
    "encoder.add(Dense(50, activation='relu'))\n",
    "encoder.add(Dense(25, activation='relu'))"
   ]
  },
  {
   "cell_type": "code",
   "execution_count": 95,
   "id": "a7622522-3865-4bd8-951f-a5b5f39a0e17",
   "metadata": {},
   "outputs": [],
   "source": [
    "decoder = Sequential()\n",
    "decoder.add(Dense(50,input_shape=[25],activation='relu'))\n",
    "decoder.add(Dense(100,activation='relu'))\n",
    "decoder.add(Dense(200,activation='relu'))\n",
    "decoder.add(Dense(400,activation='relu'))\n",
    "decoder.add(Dense(28 * 28, activation=\"sigmoid\"))\n",
    "decoder.add(Reshape([28,28]))"
   ]
  },
  {
   "cell_type": "code",
   "execution_count": 96,
   "id": "0a0925dc-56c5-40d5-bd40-7485b9422704",
   "metadata": {},
   "outputs": [],
   "source": [
    "noise_remover = Sequential([encoder, decoder])"
   ]
  },
  {
   "cell_type": "code",
   "execution_count": 97,
   "id": "ea4f020a-8559-4f5b-b38b-624c70b5844e",
   "metadata": {},
   "outputs": [],
   "source": [
    "noise_remover.compile(loss=\"binary_crossentropy\", optimizer='adam',metrics=['accuracy'])"
   ]
  },
  {
   "cell_type": "code",
   "execution_count": 100,
   "id": "35e26fcb-72ed-4a55-98be-d7d5cf9c20d4",
   "metadata": {},
   "outputs": [
    {
     "name": "stdout",
     "output_type": "stream",
     "text": [
      "Epoch 1/8\n",
      "1875/1875 [==============================] - 8s 4ms/step - loss: 0.1301 - accuracy: 0.2315 - val_loss: 0.1201 - val_accuracy: 0.2415\n",
      "Epoch 2/8\n",
      "1875/1875 [==============================] - 8s 4ms/step - loss: 0.1213 - accuracy: 0.2435 - val_loss: 0.1162 - val_accuracy: 0.2499\n",
      "Epoch 3/8\n",
      "1875/1875 [==============================] - 8s 4ms/step - loss: 0.1167 - accuracy: 0.2510 - val_loss: 0.1110 - val_accuracy: 0.2563\n",
      "Epoch 4/8\n",
      "1875/1875 [==============================] - 8s 4ms/step - loss: 0.1124 - accuracy: 0.2587 - val_loss: 0.1073 - val_accuracy: 0.2658\n",
      "Epoch 5/8\n",
      "1875/1875 [==============================] - 9s 5ms/step - loss: 0.1095 - accuracy: 0.2654 - val_loss: 0.1059 - val_accuracy: 0.2680\n",
      "Epoch 6/8\n",
      "1875/1875 [==============================] - 10s 5ms/step - loss: 0.1076 - accuracy: 0.2686 - val_loss: 0.1033 - val_accuracy: 0.2747\n",
      "Epoch 7/8\n",
      "1875/1875 [==============================] - 10s 5ms/step - loss: 0.1059 - accuracy: 0.2715 - val_loss: 0.1016 - val_accuracy: 0.2786\n",
      "Epoch 8/8\n",
      "1875/1875 [==============================] - 9s 5ms/step - loss: 0.1045 - accuracy: 0.2741 - val_loss: 0.1009 - val_accuracy: 0.2747\n"
     ]
    },
    {
     "data": {
      "text/plain": [
       "<tensorflow.python.keras.callbacks.History at 0x1c22b1130b8>"
      ]
     },
     "execution_count": 100,
     "metadata": {},
     "output_type": "execute_result"
    }
   ],
   "source": [
    "noise_remover.fit(X_train, X_train, epochs=8,\n",
    "                           validation_data=(X_test, X_test))"
   ]
  },
  {
   "cell_type": "code",
   "execution_count": 101,
   "id": "d29e6dcb-ffea-4a32-a01a-f9d563e158df",
   "metadata": {},
   "outputs": [],
   "source": [
    "ten_noisey_images = sample(X_test[0:10],training=True)\n",
    "denoised = noise_remover(ten_noisey_images[0:10])"
   ]
  },
  {
   "cell_type": "code",
   "execution_count": 103,
   "id": "748a74de-ae1f-4ae8-a856-a5d0ac0b094c",
   "metadata": {},
   "outputs": [
    {
     "name": "stdout",
     "output_type": "stream",
     "text": [
      "The Original\n"
     ]
    },
    {
     "data": {
      "image/png": "[encoded data removed]",
      "text/plain": [
       "<Figure size 432x288 with 1 Axes>"
      ]
     },
     "metadata": {
      "needs_background": "light"
     },
     "output_type": "display_data"
    },
    {
     "name": "stdout",
     "output_type": "stream",
     "text": [
      "The Noisey Version\n"
     ]
    },
    {
     "data": {
      "image/png": "[encoded data removed]",
      "text/plain": [
       "<Figure size 432x288 with 1 Axes>"
      ]
     },
     "metadata": {
      "needs_background": "light"
     },
     "output_type": "display_data"
    },
    {
     "name": "stdout",
     "output_type": "stream",
     "text": [
      "After going through denoiser\n"
     ]
    },
    {
     "data": {
      "image/png": "[encoded data removed]",
      "text/plain": [
       "<Figure size 432x288 with 1 Axes>"
      ]
     },
     "metadata": {
      "needs_background": "light"
     },
     "output_type": "display_data"
    }
   ],
   "source": [
    "n = 7\n",
    "print(\"The Original\")\n",
    "plt.imshow(X_test[n])\n",
    "plt.show()\n",
    "print(\"The Noisey Version\")\n",
    "plt.imshow(ten_noisey_images[n])\n",
    "plt.show()\n",
    "print(\"After going through denoiser\")\n",
    "plt.imshow(denoised[n])\n",
    "plt.show()"
   ]
  },
  {
   "cell_type": "code",
   "execution_count": null,
   "id": "5fc44b1a-fb58-4123-84c2-be988b6c6d12",
   "metadata": {},
   "outputs": [],
   "source": []
  }
 ],
 "metadata": {
  "kernelspec": {
   "display_name": "Python 3",
   "language": "python",
   "name": "python3"
  },
  "language_info": {
   "codemirror_mode": {
    "name": "ipython",
    "version": 3
   },
   "file_extension": ".py",
   "mimetype": "text/x-python",
   "name": "python",
   "nbconvert_exporter": "python",
   "pygments_lexer": "ipython3",
   "version": "3.6.9"
  }
 },
 "nbformat": 4,
 "nbformat_minor": 5
}
